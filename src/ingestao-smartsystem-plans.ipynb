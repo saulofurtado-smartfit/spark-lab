{
 "cells": [
  {
   "cell_type": "code",
   "execution_count": 2,
   "id": "cb408419-2747-4d33-bdd8-4525d47ec6ba",
   "metadata": {},
   "outputs": [
    {
     "data": {
      "text/html": [
       "\n",
       "            <div>\n",
       "                <p><b>SparkSession - in-memory</b></p>\n",
       "                \n",
       "        <div>\n",
       "            <p><b>SparkContext</b></p>\n",
       "\n",
       "            <p><a href=\"http://10.50.26.67:4040\">Spark UI</a></p>\n",
       "\n",
       "            <dl>\n",
       "              <dt>Version</dt>\n",
       "                <dd><code>v3.1.2</code></dd>\n",
       "              <dt>Master</dt>\n",
       "                <dd><code>local[*]</code></dd>\n",
       "              <dt>AppName</dt>\n",
       "                <dd><code>PySpark</code></dd>\n",
       "            </dl>\n",
       "        </div>\n",
       "        \n",
       "            </div>\n",
       "        "
      ],
      "text/plain": [
       "<pyspark.sql.session.SparkSession at 0x10ca96280>"
      ]
     },
     "execution_count": 2,
     "metadata": {},
     "output_type": "execute_result"
    }
   ],
   "source": [
    "#---------- Libs\n",
    "import numpy as np\n",
    "import pandas as pd; pd.set_option('max_columns', None)\n",
    "import pyspark\n",
    "from pyspark import SparkConf\n",
    "from pyspark.sql import SparkSession \n",
    "import pyspark.sql.types as T\n",
    "import pyspark.sql.functions as F\n",
    "#---------- SparkConf\n",
    "conf = (SparkConf()\n",
    "        .set('spark.sql.repl.eagerEval.enabled', True)\n",
    "        .set('spark.sql.execution.arrow.pyspark.enabled', True)\n",
    "        .set('spark.sql.session.timeZone', 'UTC')\n",
    "        .set('spark.driver.memory','32G')\n",
    "        .set('spark.ui.showConsoleProgress', True)\n",
    "        .set('spark.driver.bindAddress', '127.0.0.1'))\n",
    "#---------- SparkSession\n",
    "spark = (SparkSession\n",
    "         .builder\n",
    "         .config(conf=conf)\n",
    "         .master('local[*]')\n",
    "         .appName('PySpark')\n",
    "         .getOrCreate())\n",
    "\n",
    "spark"
   ]
  },
  {
   "cell_type": "code",
   "execution_count": null,
   "id": "8265a9fd-c7a1-4509-9ed1-098daeeb2bd5",
   "metadata": {},
   "outputs": [],
   "source": []
  },
  {
   "cell_type": "code",
   "execution_count": null,
   "id": "3b75d980-f50b-4d50-a5ce-a48fa8d2002c",
   "metadata": {},
   "outputs": [],
   "source": []
  }
 ],
 "metadata": {
  "kernelspec": {
   "display_name": "Python 3.8.2 64-bit",
   "language": "python",
   "name": "python382jvsc74a57bd031f2aee4e71d21fbe5cf8b01ff0e069b9275f58929596ceb00d14d90e3e16cd6"
  },
  "language_info": {
   "codemirror_mode": {
    "name": "ipython",
    "version": 3
   },
   "file_extension": ".py",
   "mimetype": "text/x-python",
   "name": "python",
   "nbconvert_exporter": "python",
   "pygments_lexer": "ipython3",
   "version": "3.8.9"
  }
 },
 "nbformat": 4,
 "nbformat_minor": 5
}
